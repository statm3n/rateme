{
 "cells": [
  {
   "cell_type": "code",
   "execution_count": 1,
   "metadata": {},
   "outputs": [
    {
     "name": "stderr",
     "output_type": "stream",
     "text": [
      "/Library/Frameworks/Python.framework/Versions/3.7/lib/python3.7/site-packages/statsmodels/tools/_testing.py:19: FutureWarning: pandas.util.testing is deprecated. Use the functions in the public API at pandas.testing instead.\n",
      "  import pandas.util.testing as tm\n"
     ]
    }
   ],
   "source": [
    "import pandas as pd\n",
    "import numpy as np\n",
    "import re\n",
    "import spacy\n",
    "\n",
    "import gensim\n",
    "from gensim import corpora\n",
    "\n",
    "import nltk\n",
    "from nltk import FreqDist\n",
    "import ssl\n",
    "#nltk.download(\"stopwords\")\n",
    "\n",
    "#libraries for visualization\n",
    "import pyLDAvis\n",
    "import pyLDAvis.gensim\n",
    "import matplotlib.pyplot as plt\n",
    "import seaborn as sns\n",
    "%matplotlib inline\n",
    "\n",
    "import warnings\n",
    "warnings.simplefilter(action='ignore', category=FutureWarning)\n",
    "\n",
    "from utls.words import freq_words\n",
    "from utls.words import remove_stop_words"
   ]
  },
  {
   "cell_type": "code",
   "execution_count": 3,
   "metadata": {},
   "outputs": [
    {
     "name": "stderr",
     "output_type": "stream",
     "text": [
      "[nltk_data] Downloading package stopwords to\n",
      "[nltk_data]     /Users/tsunami/nltk_data...\n",
      "[nltk_data]   Unzipping corpora/stopwords.zip.\n"
     ]
    },
    {
     "data": {
      "text/plain": [
       "True"
      ]
     },
     "execution_count": 3,
     "metadata": {},
     "output_type": "execute_result"
    }
   ],
   "source": [
    "#download stopping words\n",
    "#once is okay no need to run twice\n",
    "\"\"\"\n",
    "try:\n",
    "    _create_unverified_https_context = ssl._create_unverified_context\n",
    "except AttributeError:\n",
    "    pass\n",
    "else:\n",
    "    ssl._create_default_https_context = _create_unverified_https_context\n",
    "\n",
    "nltk.download(\"stopwords\")\n",
    "\"\"\""
   ]
  },
  {
   "cell_type": "code",
   "execution_count": null,
   "metadata": {},
   "outputs": [],
   "source": [
    "#download lemmatization from spaCy\n",
    "#!python -m spacy download en"
   ]
  },
  {
   "cell_type": "code",
   "execution_count": 2,
   "metadata": {},
   "outputs": [
    {
     "data": {
      "text/html": [
       "<div>\n",
       "<style scoped>\n",
       "    .dataframe tbody tr th:only-of-type {\n",
       "        vertical-align: middle;\n",
       "    }\n",
       "\n",
       "    .dataframe tbody tr th {\n",
       "        vertical-align: top;\n",
       "    }\n",
       "\n",
       "    .dataframe thead th {\n",
       "        text-align: right;\n",
       "    }\n",
       "</style>\n",
       "<table border=\"1\" class=\"dataframe\">\n",
       "  <thead>\n",
       "    <tr style=\"text-align: right;\">\n",
       "      <th></th>\n",
       "      <th>date</th>\n",
       "      <th>employee_title</th>\n",
       "      <th>location</th>\n",
       "      <th>employee_status</th>\n",
       "      <th>review_title</th>\n",
       "      <th>years_at_company</th>\n",
       "      <th>helpful</th>\n",
       "      <th>pros</th>\n",
       "      <th>cons</th>\n",
       "      <th>advice_to_mgmt</th>\n",
       "      <th>rating_overall</th>\n",
       "      <th>rating_balance</th>\n",
       "      <th>rating_culture</th>\n",
       "      <th>rating_career</th>\n",
       "      <th>rating_comp</th>\n",
       "      <th>rating_mgmt</th>\n",
       "    </tr>\n",
       "  </thead>\n",
       "  <tbody>\n",
       "    <tr>\n",
       "      <th>0</th>\n",
       "      <td>Mon Mar 16 2020 12:39:33 GMT-0400 (Eastern Day...</td>\n",
       "      <td>Business Analyst</td>\n",
       "      <td>Charlotte, NC</td>\n",
       "      <td>Current Employee</td>\n",
       "      <td>good</td>\n",
       "      <td>I have been working at Wells Fargo full-time f...</td>\n",
       "      <td>2</td>\n",
       "      <td>good place to grow your skill set</td>\n",
       "      <td>micro management can be eased up on</td>\n",
       "      <td>NaN</td>\n",
       "      <td>5.0</td>\n",
       "      <td>4.0</td>\n",
       "      <td>4.0</td>\n",
       "      <td>4.0</td>\n",
       "      <td>4.0</td>\n",
       "      <td>4.0</td>\n",
       "    </tr>\n",
       "    <tr>\n",
       "      <th>1</th>\n",
       "      <td>Fri Aug 24 2018 20:34:04 GMT-0400 (Eastern Day...</td>\n",
       "      <td>Branch Manager</td>\n",
       "      <td>Austin, TX</td>\n",
       "      <td>Current Employee</td>\n",
       "      <td>Coming to work here was the best decision ever.</td>\n",
       "      <td>I have been working at Wells Fargo full-time f...</td>\n",
       "      <td>240</td>\n",
       "      <td>The culture here is phenomenal. The message is...</td>\n",
       "      <td>Some systems are a bit antiquated, but to be h...</td>\n",
       "      <td>NaN</td>\n",
       "      <td>5.0</td>\n",
       "      <td>5.0</td>\n",
       "      <td>5.0</td>\n",
       "      <td>5.0</td>\n",
       "      <td>4.0</td>\n",
       "      <td>5.0</td>\n",
       "    </tr>\n",
       "    <tr>\n",
       "      <th>2</th>\n",
       "      <td>Fri Jun 05 2020 17:37:57 GMT-0400 (Eastern Day...</td>\n",
       "      <td>Phone Banker</td>\n",
       "      <td>Boise, ID</td>\n",
       "      <td>Former Employee</td>\n",
       "      <td>Great Company</td>\n",
       "      <td>I worked at Wells Fargo full-time for more tha...</td>\n",
       "      <td>0</td>\n",
       "      <td>Great benefits and community get to help out p...</td>\n",
       "      <td>Some rushing on phones can deter customer rela...</td>\n",
       "      <td>NaN</td>\n",
       "      <td>5.0</td>\n",
       "      <td>5.0</td>\n",
       "      <td>5.0</td>\n",
       "      <td>5.0</td>\n",
       "      <td>5.0</td>\n",
       "      <td>5.0</td>\n",
       "    </tr>\n",
       "    <tr>\n",
       "      <th>3</th>\n",
       "      <td>Fri Jun 05 2020 18:33:17 GMT-0400 (Eastern Day...</td>\n",
       "      <td>Licensed Personal Banker</td>\n",
       "      <td>New York, NY</td>\n",
       "      <td>Current Employee</td>\n",
       "      <td>great company</td>\n",
       "      <td>I have been working at Wells Fargo full-time f...</td>\n",
       "      <td>0</td>\n",
       "      <td>great work life balance, Wells Fargo makes sur...</td>\n",
       "      <td>not a big footprint in New York City</td>\n",
       "      <td>NaN</td>\n",
       "      <td>5.0</td>\n",
       "      <td>5.0</td>\n",
       "      <td>5.0</td>\n",
       "      <td>4.0</td>\n",
       "      <td>5.0</td>\n",
       "      <td>5.0</td>\n",
       "    </tr>\n",
       "    <tr>\n",
       "      <th>4</th>\n",
       "      <td>Fri Jun 05 2020 19:37:54 GMT-0400 (Eastern Day...</td>\n",
       "      <td>Analytics Consultant</td>\n",
       "      <td>San Francisco, CA</td>\n",
       "      <td>Former Employee</td>\n",
       "      <td>solid place to work</td>\n",
       "      <td>I worked at Wells Fargo full-time</td>\n",
       "      <td>0</td>\n",
       "      <td>good place to learn analytics</td>\n",
       "      <td>there will be bureaucracies to overcome.</td>\n",
       "      <td>NaN</td>\n",
       "      <td>4.0</td>\n",
       "      <td>4.0</td>\n",
       "      <td>3.0</td>\n",
       "      <td>5.0</td>\n",
       "      <td>4.0</td>\n",
       "      <td>4.0</td>\n",
       "    </tr>\n",
       "  </tbody>\n",
       "</table>\n",
       "</div>"
      ],
      "text/plain": [
       "                                                date  \\\n",
       "0  Mon Mar 16 2020 12:39:33 GMT-0400 (Eastern Day...   \n",
       "1  Fri Aug 24 2018 20:34:04 GMT-0400 (Eastern Day...   \n",
       "2  Fri Jun 05 2020 17:37:57 GMT-0400 (Eastern Day...   \n",
       "3  Fri Jun 05 2020 18:33:17 GMT-0400 (Eastern Day...   \n",
       "4  Fri Jun 05 2020 19:37:54 GMT-0400 (Eastern Day...   \n",
       "\n",
       "              employee_title           location    employee_status  \\\n",
       "0           Business Analyst      Charlotte, NC  Current Employee    \n",
       "1             Branch Manager         Austin, TX  Current Employee    \n",
       "2               Phone Banker          Boise, ID   Former Employee    \n",
       "3   Licensed Personal Banker       New York, NY  Current Employee    \n",
       "4       Analytics Consultant  San Francisco, CA   Former Employee    \n",
       "\n",
       "                                      review_title  \\\n",
       "0                                             good   \n",
       "1  Coming to work here was the best decision ever.   \n",
       "2                                    Great Company   \n",
       "3                                    great company   \n",
       "4                              solid place to work   \n",
       "\n",
       "                                    years_at_company  helpful  \\\n",
       "0  I have been working at Wells Fargo full-time f...        2   \n",
       "1  I have been working at Wells Fargo full-time f...      240   \n",
       "2  I worked at Wells Fargo full-time for more tha...        0   \n",
       "3  I have been working at Wells Fargo full-time f...        0   \n",
       "4                  I worked at Wells Fargo full-time        0   \n",
       "\n",
       "                                                pros  \\\n",
       "0                  good place to grow your skill set   \n",
       "1  The culture here is phenomenal. The message is...   \n",
       "2  Great benefits and community get to help out p...   \n",
       "3  great work life balance, Wells Fargo makes sur...   \n",
       "4                      good place to learn analytics   \n",
       "\n",
       "                                                cons  advice_to_mgmt  \\\n",
       "0                micro management can be eased up on             NaN   \n",
       "1  Some systems are a bit antiquated, but to be h...             NaN   \n",
       "2  Some rushing on phones can deter customer rela...             NaN   \n",
       "3               not a big footprint in New York City             NaN   \n",
       "4           there will be bureaucracies to overcome.             NaN   \n",
       "\n",
       "   rating_overall  rating_balance  rating_culture  rating_career  rating_comp  \\\n",
       "0             5.0             4.0             4.0            4.0          4.0   \n",
       "1             5.0             5.0             5.0            5.0          4.0   \n",
       "2             5.0             5.0             5.0            5.0          5.0   \n",
       "3             5.0             5.0             5.0            4.0          5.0   \n",
       "4             4.0             4.0             3.0            5.0          4.0   \n",
       "\n",
       "   rating_mgmt  \n",
       "0          4.0  \n",
       "1          5.0  \n",
       "2          5.0  \n",
       "3          5.0  \n",
       "4          4.0  "
      ]
     },
     "execution_count": 2,
     "metadata": {},
     "output_type": "execute_result"
    }
   ],
   "source": [
    "df_raw = pd.read_csv('/Users/tsunami/glass_view//rawdat/wells_fargo_reviews.csv') # 16 columns, 1007 rows\n",
    "df_raw.head()"
   ]
  },
  {
   "cell_type": "code",
   "execution_count": 4,
   "metadata": {},
   "outputs": [
    {
     "data": {
      "image/png": "[encoded data removed]",
      "text/plain": [
       "<Figure size 1440x360 with 1 Axes>"
      ]
     },
     "metadata": {
      "needs_background": "light"
     },
     "output_type": "display_data"
    }
   ],
   "source": [
    "#freq_words(df_raw['pros'])\n",
    "#freq_words(df_raw['cons'])"
   ]
  },
  {
   "cell_type": "code",
   "execution_count": 5,
   "metadata": {},
   "outputs": [],
   "source": [
    "rev_pro = remove_stop_words(df_raw, 'pros')\n",
    "rev_con = remove_stop_words(df_raw, 'cons')"
   ]
  },
  {
   "cell_type": "code",
   "execution_count": 6,
   "metadata": {},
   "outputs": [
    {
     "data": {
      "image/png": "[encoded data removed]",
      "text/plain": [
       "<Figure size 1440x360 with 1 Axes>"
      ]
     },
     "metadata": {
      "needs_background": "light"
     },
     "output_type": "display_data"
    }
   ],
   "source": [
    "freq_words(rev_con, 35)"
   ]
  }
 ],
 "metadata": {
  "kernelspec": {
   "display_name": "Python 3",
   "language": "python",
   "name": "python3"
  },
  "language_info": {
   "codemirror_mode": {
    "name": "ipython",
    "version": 3
   },
   "file_extension": ".py",
   "mimetype": "text/x-python",
   "name": "python",
   "nbconvert_exporter": "python",
   "pygments_lexer": "ipython3",
   "version": "3.7.4"
  }
 },
 "nbformat": 4,
 "nbformat_minor": 4
}
