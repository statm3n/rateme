{
 "cells": [
  {
   "cell_type": "code",
   "execution_count": 1,
   "metadata": {},
   "outputs": [],
   "source": [
    "import pandas as pd"
   ]
  },
  {
   "cell_type": "code",
   "execution_count": 3,
   "metadata": {},
   "outputs": [],
   "source": [
    "df_test = pd.read_csv('/Users/tsunami/glass_view//rawdat/wells_fargo_reviews.csv')"
   ]
  },
  {
   "cell_type": "code",
   "execution_count": 4,
   "metadata": {},
   "outputs": [
    {
     "data": {
      "text/html": [
       "<div>\n",
       "<style scoped>\n",
       "    .dataframe tbody tr th:only-of-type {\n",
       "        vertical-align: middle;\n",
       "    }\n",
       "\n",
       "    .dataframe tbody tr th {\n",
       "        vertical-align: top;\n",
       "    }\n",
       "\n",
       "    .dataframe thead th {\n",
       "        text-align: right;\n",
       "    }\n",
       "</style>\n",
       "<table border=\"1\" class=\"dataframe\">\n",
       "  <thead>\n",
       "    <tr style=\"text-align: right;\">\n",
       "      <th></th>\n",
       "      <th>date</th>\n",
       "      <th>employee_title</th>\n",
       "      <th>location</th>\n",
       "      <th>employee_status</th>\n",
       "      <th>review_title</th>\n",
       "      <th>years_at_company</th>\n",
       "      <th>helpful</th>\n",
       "      <th>pros</th>\n",
       "      <th>cons</th>\n",
       "      <th>advice_to_mgmt</th>\n",
       "      <th>rating_overall</th>\n",
       "      <th>rating_balance</th>\n",
       "      <th>rating_culture</th>\n",
       "      <th>rating_career</th>\n",
       "      <th>rating_comp</th>\n",
       "      <th>rating_mgmt</th>\n",
       "    </tr>\n",
       "  </thead>\n",
       "  <tbody>\n",
       "    <tr>\n",
       "      <th>0</th>\n",
       "      <td>Mon Mar 16 2020 12:39:33 GMT-0400 (Eastern Day...</td>\n",
       "      <td>Business Analyst</td>\n",
       "      <td>Charlotte, NC</td>\n",
       "      <td>Current Employee</td>\n",
       "      <td>good</td>\n",
       "      <td>I have been working at Wells Fargo full-time f...</td>\n",
       "      <td>2</td>\n",
       "      <td>good place to grow your skill set</td>\n",
       "      <td>micro management can be eased up on</td>\n",
       "      <td>NaN</td>\n",
       "      <td>5.0</td>\n",
       "      <td>4.0</td>\n",
       "      <td>4.0</td>\n",
       "      <td>4.0</td>\n",
       "      <td>4.0</td>\n",
       "      <td>4.0</td>\n",
       "    </tr>\n",
       "    <tr>\n",
       "      <th>1</th>\n",
       "      <td>Fri Aug 24 2018 20:34:04 GMT-0400 (Eastern Day...</td>\n",
       "      <td>Branch Manager</td>\n",
       "      <td>Austin, TX</td>\n",
       "      <td>Current Employee</td>\n",
       "      <td>Coming to work here was the best decision ever.</td>\n",
       "      <td>I have been working at Wells Fargo full-time f...</td>\n",
       "      <td>240</td>\n",
       "      <td>The culture here is phenomenal. The message is...</td>\n",
       "      <td>Some systems are a bit antiquated, but to be h...</td>\n",
       "      <td>NaN</td>\n",
       "      <td>5.0</td>\n",
       "      <td>5.0</td>\n",
       "      <td>5.0</td>\n",
       "      <td>5.0</td>\n",
       "      <td>4.0</td>\n",
       "      <td>5.0</td>\n",
       "    </tr>\n",
       "  </tbody>\n",
       "</table>\n",
       "</div>"
      ],
      "text/plain": [
       "                                                date     employee_title  \\\n",
       "0  Mon Mar 16 2020 12:39:33 GMT-0400 (Eastern Day...   Business Analyst   \n",
       "1  Fri Aug 24 2018 20:34:04 GMT-0400 (Eastern Day...     Branch Manager   \n",
       "\n",
       "        location    employee_status  \\\n",
       "0  Charlotte, NC  Current Employee    \n",
       "1     Austin, TX  Current Employee    \n",
       "\n",
       "                                      review_title  \\\n",
       "0                                             good   \n",
       "1  Coming to work here was the best decision ever.   \n",
       "\n",
       "                                    years_at_company  helpful  \\\n",
       "0  I have been working at Wells Fargo full-time f...        2   \n",
       "1  I have been working at Wells Fargo full-time f...      240   \n",
       "\n",
       "                                                pros  \\\n",
       "0                  good place to grow your skill set   \n",
       "1  The culture here is phenomenal. The message is...   \n",
       "\n",
       "                                                cons  advice_to_mgmt  \\\n",
       "0                micro management can be eased up on             NaN   \n",
       "1  Some systems are a bit antiquated, but to be h...             NaN   \n",
       "\n",
       "   rating_overall  rating_balance  rating_culture  rating_career  rating_comp  \\\n",
       "0             5.0             4.0             4.0            4.0          4.0   \n",
       "1             5.0             5.0             5.0            5.0          4.0   \n",
       "\n",
       "   rating_mgmt  \n",
       "0          4.0  \n",
       "1          5.0  "
      ]
     },
     "execution_count": 4,
     "metadata": {},
     "output_type": "execute_result"
    }
   ],
   "source": [
    "df_test.head(2)"
   ]
  }
 ],
 "metadata": {
  "kernelspec": {
   "display_name": "my_env",
   "language": "python",
   "name": "my_env"
  },
  "language_info": {
   "codemirror_mode": {
    "name": "ipython",
    "version": 3
   },
   "file_extension": ".py",
   "mimetype": "text/x-python",
   "name": "python",
   "nbconvert_exporter": "python",
   "pygments_lexer": "ipython3",
   "version": "3.7.4"
  }
 },
 "nbformat": 4,
 "nbformat_minor": 4
}
