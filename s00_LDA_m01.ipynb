{
 "cells": [
  {
   "cell_type": "code",
   "execution_count": 1,
   "metadata": {},
   "outputs": [
    {
     "name": "stderr",
     "output_type": "stream",
     "text": [
      "/Library/Frameworks/Python.framework/Versions/3.7/lib/python3.7/site-packages/statsmodels/tools/_testing.py:19: FutureWarning: pandas.util.testing is deprecated. Use the functions in the public API at pandas.testing instead.\n",
      "  import pandas.util.testing as tm\n"
     ]
    }
   ],
   "source": [
    "import pandas as pd\n",
    "import numpy as np\n",
    "import re\n",
    "import spacy\n",
    "\n",
    "import gensim\n",
    "from gensim import corpora\n",
    "\n",
    "import nltk\n",
    "from nltk import FreqDist\n",
    "import ssl\n",
    "#nltk.download(\"stopwords\")\n",
    "\n",
    "#libraries for visualization\n",
    "import pyLDAvis\n",
    "import pyLDAvis.gensim\n",
    "import matplotlib.pyplot as plt\n",
    "import seaborn as sns\n",
    "%matplotlib inline\n",
    "\n",
    "import warnings\n",
    "warnings.simplefilter(action='ignore', category=FutureWarning)\n",
    "\n",
    "from utls.words import freq_words\n",
    "from utls.words import remove_stop_words\n",
    "from utls.words import lemmatization"
   ]
  },
  {
   "cell_type": "code",
   "execution_count": 3,
   "metadata": {},
   "outputs": [
    {
     "name": "stderr",
     "output_type": "stream",
     "text": [
      "[nltk_data] Downloading package stopwords to\n",
      "[nltk_data]     /Users/tsunami/nltk_data...\n",
      "[nltk_data]   Unzipping corpora/stopwords.zip.\n"
     ]
    },
    {
     "data": {
      "text/plain": [
       "True"
      ]
     },
     "execution_count": 3,
     "metadata": {},
     "output_type": "execute_result"
    }
   ],
   "source": [
    "#download stopping words\n",
    "#once is okay no need to run twice\n",
    "\"\"\"\n",
    "try:\n",
    "    _create_unverified_https_context = ssl._create_unverified_context\n",
    "except AttributeError:\n",
    "    pass\n",
    "else:\n",
    "    ssl._create_default_https_context = _create_unverified_https_context\n",
    "\n",
    "nltk.download(\"stopwords\")\n",
    "\"\"\""
   ]
  },
  {
   "cell_type": "code",
   "execution_count": null,
   "metadata": {},
   "outputs": [],
   "source": [
    "#download lemmatization from spaCy\n",
    "#!python -m spacy download en"
   ]
  },
  {
   "cell_type": "code",
   "execution_count": 2,
   "metadata": {},
   "outputs": [],
   "source": [
    "df_raw = pd.read_csv('/Users/tsunami/glass_view//rawdat/wells_fargo_reviews.csv') # 16 columns, 1007 rows\n",
    "#df_raw.head()"
   ]
  },
  {
   "cell_type": "code",
   "execution_count": 3,
   "metadata": {},
   "outputs": [],
   "source": [
    "# remove stopwords \n",
    "rev_pro = remove_stop_words(df_raw, 'pros')\n",
    "rev_con = remove_stop_words(df_raw, 'cons')"
   ]
  },
  {
   "cell_type": "code",
   "execution_count": 4,
   "metadata": {},
   "outputs": [
    {
     "data": {
      "image/png": "[encoded data removed]",
      "text/plain": [
       "<Figure size 1440x360 with 1 Axes>"
      ]
     },
     "metadata": {
      "needs_background": "light"
     },
     "output_type": "display_data"
    }
   ],
   "source": [
    "# lemmatization: only nouns and adjectives and assign back\n",
    "tk_pro = lemmatization(pd.Series(rev_pro).apply(lambda x: x.split()))\n",
    "tk_pro_final = []\n",
    "for i in range(len(tk_pro)):\n",
    "    tk_pro_final.append(' '.join(tk_pro[i]))\n",
    "    \n",
    "freq_words(tk_pro_final,20)"
   ]
  },
  {
   "cell_type": "code",
   "execution_count": 5,
   "metadata": {},
   "outputs": [
    {
     "data": {
      "image/png": "[encoded data removed]",
      "text/plain": [
       "<Figure size 1440x360 with 1 Axes>"
      ]
     },
     "metadata": {
      "needs_background": "light"
     },
     "output_type": "display_data"
    }
   ],
   "source": [
    "# lemmatization: only nouns and adjectives and assign back\n",
    "tk_con = lemmatization(pd.Series(rev_con).apply(lambda x: x.split()))\n",
    "tk_con_final = []\n",
    "for i in range(len(tk_con)):\n",
    "    tk_con_final.append(' '.join(tk_con[i]))\n",
    "    \n",
    "freq_words(tk_con_final,20)"
   ]
  },
  {
   "cell_type": "markdown",
   "metadata": {},
   "source": [
    "## GlassDoor Review has 5 categories\n",
    "1. Culture and Values\n",
    "2. Work/Life Balance\n",
    "3. Senior Management\n",
    "4. Compensation and Benefits\n",
    "5. Career Opportunities\n",
    "\n",
    "In the remaining parts, classify pro and con reviews into 5 classes."
   ]
  },
  {
   "cell_type": "code",
   "execution_count": 6,
   "metadata": {},
   "outputs": [],
   "source": [
    "dictionary = corpora.Dictionary(tk_pro)\n",
    "doc_term_matrix = [dictionary.doc2bow(rev) for rev in tk_pro]\n",
    "\n",
    "# Creating the object for LDA model using gensim library\n",
    "LDA = gensim.models.ldamodel.LdaModel\n",
    "\n",
    "# Build LDA model\n",
    "lda_model = LDA(corpus=doc_term_matrix, id2word=dictionary, num_topics=5, random_state=100,\n",
    "                chunksize=1000, passes=50)"
   ]
  },
  {
   "cell_type": "code",
   "execution_count": 7,
   "metadata": {},
   "outputs": [
    {
     "data": {
      "text/plain": [
       "[(0,\n",
       "  '0.134*\"opportunity\" + 0.131*\"company\" + 0.120*\"great\" + 0.113*\"lot\" + 0.099*\"employee\" + 0.087*\"large\" + 0.010*\"growth\" + 0.009*\"development\" + 0.006*\"potential\" + 0.005*\"career\"'),\n",
       " (1,\n",
       "  '0.063*\"good\" + 0.054*\"work\" + 0.036*\"benefit\" + 0.027*\"great\" + 0.021*\"pay\" + 0.020*\"team\" + 0.018*\"life\" + 0.017*\"balance\" + 0.017*\"people\" + 0.014*\"management\"'),\n",
       " (2,\n",
       "  '0.175*\"hour\" + 0.151*\"benefit\" + 0.144*\"coworker\" + 0.129*\"parking\" + 0.007*\"promotion\" + 0.006*\"quarterly\" + 0.005*\"person\" + 0.004*\"teller\" + 0.003*\"financial\" + 0.003*\"risk\"'),\n",
       " (3,\n",
       "  '0.161*\"great\" + 0.091*\"environment\" + 0.087*\"time\" + 0.085*\"benefit\" + 0.071*\"friendly\" + 0.069*\"employee\" + 0.068*\"office\" + 0.068*\"part\" + 0.065*\"food\" + 0.063*\"cafe\"'),\n",
       " (4,\n",
       "  '0.127*\"good\" + 0.087*\"benefit\" + 0.082*\"great\" + 0.045*\"people\" + 0.044*\"decent\" + 0.040*\"worker\" + 0.039*\"pto\" + 0.039*\"training\" + 0.038*\"salary\" + 0.037*\"level\"')]"
      ]
     },
     "execution_count": 7,
     "metadata": {},
     "output_type": "execute_result"
    }
   ],
   "source": [
    "lda_model.print_topics()"
   ]
  },
  {
   "cell_type": "markdown",
   "metadata": {},
   "source": [
    "## 5 Classes should match GlassDoor 5 review categories\n",
    "1. 0 --> Career Opportunities\n",
    "2. 1 --> Senior Management\n",
    "3. 2 --> Compensation and Benefits\n",
    "4. 3 --> Culture and Values\n",
    "5. 4 --> Compensation and Benefits"
   ]
  },
  {
   "cell_type": "code",
   "execution_count": 8,
   "metadata": {},
   "outputs": [
    {
     "data": {
      "text/html": [
       "\n",
       "<link rel=\"stylesheet\" type=\"text/css\" href=\"https://cdn.rawgit.com/bmabey/pyLDAvis/files/ldavis.v1.0.0.css\">\n",
       "\n",
       "\n",
       "<div id=\"ldavis_el114541406319885466404617190499\"></div>\n",
       "<script type=\"text/javascript\">\n",
       "\n",
       "var ldavis_el114541406319885466404617190499_data = {\"mdsDat\": {\"x\": [-0.12153523524206687, -0.12180791064675213, 0.22118716976878555, 0.1683170809084062, -0.14616110478837266], \"y\": [0.0024429901470597926, -0.25171805140401843, -0.021817941655107566, 0.04478772035749763, 0.22630528255456864], \"topics\": [1, 2, 3, 4, 5], \"cluster\": [1, 1, 1, 1, 1], \"Freq\": [60.050357818603516, 12.9120512008667, 12.647871971130371, 8.278698921203613, 6.11102294921875]}, \"tinfo\": {\"Term\": [\"benefit\", \"great\", \"good\", \"company\", \"opportunity\", \"hour\", \"lot\", \"employee\", \"coworker\", \"time\", \"large\", \"parking\", \"environment\", \"people\", \"friendly\", \"work\", \"office\", \"part\", \"food\", \"cafe\", \"pto\", \"training\", \"decent\", \"worker\", \"salary\", \"level\", \"compensation\", \"resource\", \"skill\", \"entry\", \"work\", \"pay\", \"team\", \"life\", \"balance\", \"management\", \"job\", \"customer\", \"culture\", \"place\", \"flexible\", \"nice\", \"manager\", \"holiday\", \"day\", \"schedule\", \"experience\", \"easy\", \"room\", \"excellent\", \"many\", \"bank\", \"bonus\", \"advancement\", \"year\", \"member\", \"new\", \"branch\", \"service\", \"community\", \"good\", \"career\", \"people\", \"benefit\", \"growth\", \"great\", \"pto\", \"training\", \"company\", \"time\", \"decent\", \"worker\", \"salary\", \"level\", \"compensation\", \"skill\", \"entry\", \"resource\", \"package\", \"way\", \"thorough\", \"pick\", \"volunteer\", \"training\", \"purchase\", \"pto\", \"stock\", \"start\", \"intelligent\", \"professionalism\", \"similar\", \"incentive\", \"boss\", \"people\", \"bit\", \"knowledgeable\", \"starting\", \"involvement\", \"autonomy\", \"perk\", \"good\", \"lot\", \"benefit\", \"great\", \"overall\", \"amount\", \"opportunity\", \"large\", \"potential\", \"much\", \"company\", \"lot\", \"direction\", \"employee\", \"mentorship\", \"senior\", \"most\", \"knowledge\", \"banker\", \"caregiver\", \"license\", \"material\", \"stability\", \"institution\", \"opening\", \"chill\", \"presence\", \"present\", \"employer\", \"close\", \"ample\", \"partner\", \"relocate\", \"research\", \"communication\", \"term\", \"disability\", \"great\", \"development\", \"program\", \"growth\", \"big\", \"career\", \"available\", \"diversity\", \"major\", \"competitive\", \"move\", \"average\", \"overtime\", \"environment\", \"friendly\", \"office\", \"part\", \"food\", \"cafe\", \"time\", \"client\", \"pro\", \"talent\", \"facility\", \"player\", \"fairness\", \"employee\", \"emplyment\", \"safety\", \"audit\", \"rhyme\", \"bill\", \"toxic\", \"unstable\", \"condition\", \"feedback\", \"hardworking\", \"wise\", \"boost\", \"welcoming\", \"allowance\", \"inclusion\", \"meal\", \"great\", \"benefit\", \"location\", \"lunch\", \"moment\", \"structure\", \"hour\", \"coworker\", \"parking\", \"promotion\", \"quarterly\", \"person\", \"risk\", \"daily\", \"timer\", \"vault\", \"out\", \"advisor\", \"teamwork\", \"analyst\", \"fresh\", \"outrageous\", \"flexdible\", \"learn\", \"difficult\", \"dealership\", \"representative\", \"impressive\", \"cause\", \"terminate\", \"hire\", \"gret\", \"stress\", \"partial\", \"hand\", \"tile\", \"benefit\", \"financial\", \"certain\", \"teller\", \"priority\", \"learning\", \"free\", \"expectation\", \"moment\", \"operation\", \"pro\", \"air\", \"valuable\"], \"Freq\": [274.0, 309.0, 301.0, 117.0, 94.0, 60.0, 106.0, 101.0, 49.0, 60.0, 62.0, 44.0, 42.0, 89.0, 33.0, 180.0, 32.0, 31.0, 30.0, 29.0, 59.0, 55.0, 32.0, 29.0, 27.0, 27.0, 26.0, 26.0, 26.0, 26.0, 179.73138427734375, 69.27853393554688, 68.44847106933594, 60.97491455078125, 57.65584945678711, 47.68553924560547, 47.6844367980957, 43.53223419189453, 42.70140075683594, 37.724891662597656, 35.22852325439453, 33.564048767089844, 32.73991394042969, 31.907928466796875, 30.248950958251953, 29.416534423828125, 29.4127254486084, 26.092430114746094, 23.603374481201172, 19.450714111328125, 19.444538116455078, 18.620065689086914, 18.614307403564453, 18.61278533935547, 17.793704986572266, 17.793611526489258, 16.13141632080078, 16.130168914794922, 16.12925910949707, 16.12689781188965, 209.62417602539062, 24.102500915527344, 56.6942138671875, 121.51515197753906, 25.023956298828125, 91.82473754882812, 30.750316619873047, 26.64066505432129, 25.641435623168945, 20.492816925048828, 31.890491485595703, 28.759502410888672, 27.111074447631836, 26.287263870239258, 26.122760772705078, 25.95790672302246, 25.79326820373535, 25.95697021484375, 25.134164810180664, 24.639997482299805, 24.145587921142578, 24.145587921142578, 0.8857560157775879, 27.992895126342773, 0.7247154712677002, 28.331823348999023, 0.5612878203392029, 0.561882734298706, 0.5610957145690918, 0.5587679743766785, 0.5588279366493225, 0.5561296939849854, 0.5562440156936646, 32.083038330078125, 0.3993508219718933, 0.3994763493537903, 0.39834654331207275, 0.39860278367996216, 0.3984496593475342, 0.396719366312027, 91.2511978149414, 26.145862579345703, 62.17726516723633, 59.140926361083984, 0.7862019538879395, 0.8919217586517334, 93.9327392578125, 61.424835205078125, 3.9347245693206787, 3.556281089782715, 91.87525177001953, 79.51612091064453, 1.6704531908035278, 69.30018615722656, 1.2959872484207153, 1.2931427955627441, 1.2924758195877075, 1.290295958518982, 1.288744330406189, 1.2852510213851929, 0.9179533123970032, 0.9157166481018066, 0.9151395559310913, 0.9129109978675842, 0.9140172600746155, 0.9126923680305481, 0.9147387742996216, 0.9133938550949097, 0.9127627015113831, 0.9112063646316528, 0.9107959866523743, 0.90696781873703, 0.9081210494041443, 0.9090870022773743, 0.9063976407051086, 0.9053826332092285, 0.9053826332092285, 84.15330505371094, 6.386589527130127, 3.579408645629883, 7.074296474456787, 2.4308385848999023, 3.717852830886841, 1.6674158573150635, 1.319529414176941, 1.1377439498901367, 1.5160880088806152, 1.1534243822097778, 1.1188822984695435, 1.1036680936813354, 41.87032699584961, 32.72114181518555, 31.328468322753906, 31.129518508911133, 30.135316848754883, 29.14089584350586, 39.83293533325195, 1.0696663856506348, 0.6814793348312378, 0.4821147322654724, 0.4810154438018799, 0.4788213074207306, 0.4714932143688202, 31.958101272583008, 0.28435519337654114, 0.28435519337654114, 0.2843540906906128, 0.2843216359615326, 0.2842031717300415, 0.28337806463241577, 0.28337806463241577, 0.28337806463241577, 0.2830585241317749, 0.2816564440727234, 0.2821708619594574, 0.28216180205345154, 0.28216180205345154, 0.2821406424045563, 0.2816019058227539, 0.2813897728919983, 74.2055892944336, 39.30656814575195, 0.5237663984298706, 0.2843233346939087, 0.2829205393791199, 0.2840794324874878, 59.605655670166016, 48.95718002319336, 43.928775787353516, 2.485853910446167, 1.8966313600540161, 1.6037817001342773, 1.0118213891983032, 1.005139708518982, 0.7171667814254761, 0.7172744870185852, 0.7172744870185852, 0.7166118621826172, 0.7162987589836121, 0.4230160713195801, 0.4230058491230011, 0.42300477623939514, 0.4229840040206909, 0.42298397421836853, 0.42298397421836853, 0.42298397421836853, 0.42298397421836853, 0.42228007316589355, 0.4222778081893921, 0.4222778081893921, 0.42229169607162476, 0.4224747121334076, 0.42179059982299805, 0.42192015051841736, 0.4222177267074585, 0.4215601980686188, 51.41987228393555, 1.1859833002090454, 0.5642197132110596, 1.3688380718231201, 0.6758336424827576, 0.6924429535865784, 0.7189403772354126, 0.4313730299472809, 0.4233756363391876, 0.42410942912101746, 0.4240932762622833, 0.4238656461238861, 0.4231744110584259], \"Total\": [274.0, 309.0, 301.0, 117.0, 94.0, 60.0, 106.0, 101.0, 49.0, 60.0, 62.0, 44.0, 42.0, 89.0, 33.0, 180.0, 32.0, 31.0, 30.0, 29.0, 59.0, 55.0, 32.0, 29.0, 27.0, 27.0, 26.0, 26.0, 26.0, 26.0, 180.17970275878906, 69.72714233398438, 68.8971176147461, 61.423587799072266, 58.10333251953125, 48.134796142578125, 48.133846282958984, 43.98161697387695, 43.15109634399414, 38.17232131958008, 35.677513122558594, 34.01390075683594, 33.18785858154297, 32.35669708251953, 30.696889877319336, 29.86482810974121, 29.862857818603516, 26.54176139831543, 24.052154541015625, 19.899080276489258, 19.89630699157715, 19.0689697265625, 19.065288543701172, 19.064315795898438, 18.241186141967773, 18.241167068481445, 16.579450607299805, 16.578290939331055, 16.57823944091797, 16.57603645324707, 301.2524108886719, 28.104516983032227, 89.15431213378906, 274.5836486816406, 32.385433197021484, 309.4522705078125, 59.458824157714844, 55.01193618774414, 117.80109405517578, 60.68780517578125, 32.63048553466797, 29.496807098388672, 27.84865379333496, 27.024478912353516, 26.857938766479492, 26.693340301513672, 26.528553009033203, 26.697072982788086, 25.867877960205078, 25.37312126159668, 24.878433227539062, 24.878433227539062, 1.6450551748275757, 55.01193618774414, 1.4799494743347168, 59.458824157714844, 1.3077962398529053, 1.3109276294708252, 1.3140116930007935, 1.3162598609924316, 1.3204329013824463, 1.327964425086975, 1.3292266130447388, 89.15431213378906, 1.1355836391448975, 1.136583924293518, 1.1349207162857056, 1.1400946378707886, 1.1406038999557495, 1.1378264427185059, 301.2524108886719, 106.23808288574219, 274.5836486816406, 309.4522705078125, 3.7191126346588135, 6.609881401062012, 94.57782745361328, 62.0668830871582, 4.586916923522949, 4.211156368255615, 117.80109405517578, 106.23808288574219, 2.3202927112579346, 101.81797790527344, 1.9376518726348877, 1.940989375114441, 1.9411985874176025, 1.9445369243621826, 1.9422166347503662, 1.9500739574432373, 1.5596891641616821, 1.562697172164917, 1.5629727840423584, 1.559287667274475, 1.561676263809204, 1.5595887899398804, 1.5633782148361206, 1.5646575689315796, 1.5649100542068481, 1.5675787925720215, 1.5682768821716309, 1.5634937286376953, 1.5661115646362305, 1.5701570510864258, 1.5682084560394287, 1.5741108655929565, 1.5741108655929565, 309.4522705078125, 15.77428913116455, 9.167893409729004, 32.385433197021484, 7.222265243530273, 28.104516983032227, 8.134320259094238, 6.058246612548828, 3.787219762802124, 17.44979476928711, 7.9202351570129395, 7.120405197143555, 7.149485111236572, 42.594017028808594, 33.44050216674805, 32.04853820800781, 31.849504470825195, 30.8539981842041, 29.859085083007812, 60.68780517578125, 1.8213669061660767, 1.6965432167053223, 1.2043178081512451, 1.208387017250061, 1.2125327587127686, 1.2257567644119263, 101.81797790527344, 1.0025782585144043, 1.0025782585144043, 1.0025831460952759, 1.002577781677246, 1.002577304840088, 1.0055687427520752, 1.0055687427520752, 1.0055687427520752, 1.006304383277893, 1.0020314455032349, 1.004446029663086, 1.0069319009780884, 1.0069319009780884, 1.0075188875198364, 1.0107325315475464, 1.0109374523162842, 309.4522705078125, 274.5836486816406, 10.202810287475586, 1.832488775253296, 1.301004409790039, 2.6596877574920654, 60.28704071044922, 49.635292053222656, 44.605255126953125, 3.175898551940918, 2.584369659423828, 2.285851001739502, 1.6947245597839355, 1.696335792541504, 1.3965697288513184, 1.3980298042297363, 1.3980298042297363, 1.399181604385376, 1.3995575904846191, 1.099499225616455, 1.0994946956634521, 1.099494457244873, 1.099485158920288, 1.099485158920288, 1.099485158920288, 1.099485158920288, 1.099485158920288, 1.0991506576538086, 1.0991493463516235, 1.0991493463516235, 1.0996878147125244, 1.1003717184066772, 1.0989221334457397, 1.0998725891113281, 1.1007533073425293, 1.100142240524292, 274.5836486816406, 4.701585292816162, 1.6701031923294067, 6.861482620239258, 2.302342653274536, 3.0373246669769287, 4.7132649421691895, 3.5742228031158447, 1.301004409790039, 2.751303195953369, 1.6965432167053223, 1.9247593879699707, 1.9253617525100708], \"Category\": [\"Default\", \"Default\", \"Default\", \"Default\", \"Default\", \"Default\", \"Default\", \"Default\", \"Default\", \"Default\", \"Default\", \"Default\", \"Default\", \"Default\", \"Default\", \"Default\", \"Default\", \"Default\", \"Default\", \"Default\", \"Default\", \"Default\", \"Default\", \"Default\", \"Default\", \"Default\", \"Default\", \"Default\", \"Default\", \"Default\", \"Topic1\", \"Topic1\", \"Topic1\", \"Topic1\", \"Topic1\", \"Topic1\", \"Topic1\", \"Topic1\", \"Topic1\", \"Topic1\", \"Topic1\", \"Topic1\", \"Topic1\", \"Topic1\", \"Topic1\", \"Topic1\", \"Topic1\", \"Topic1\", \"Topic1\", \"Topic1\", \"Topic1\", \"Topic1\", \"Topic1\", \"Topic1\", \"Topic1\", \"Topic1\", \"Topic1\", \"Topic1\", \"Topic1\", \"Topic1\", \"Topic1\", \"Topic1\", \"Topic1\", \"Topic1\", \"Topic1\", \"Topic1\", \"Topic1\", \"Topic1\", \"Topic1\", \"Topic1\", \"Topic2\", \"Topic2\", \"Topic2\", \"Topic2\", \"Topic2\", \"Topic2\", \"Topic2\", \"Topic2\", \"Topic2\", \"Topic2\", \"Topic2\", \"Topic2\", \"Topic2\", \"Topic2\", \"Topic2\", \"Topic2\", \"Topic2\", \"Topic2\", \"Topic2\", \"Topic2\", \"Topic2\", \"Topic2\", \"Topic2\", \"Topic2\", \"Topic2\", \"Topic2\", \"Topic2\", \"Topic2\", \"Topic2\", \"Topic2\", \"Topic2\", \"Topic2\", \"Topic2\", \"Topic2\", \"Topic2\", \"Topic2\", \"Topic3\", \"Topic3\", \"Topic3\", \"Topic3\", \"Topic3\", \"Topic3\", \"Topic3\", \"Topic3\", \"Topic3\", \"Topic3\", \"Topic3\", \"Topic3\", \"Topic3\", \"Topic3\", \"Topic3\", \"Topic3\", \"Topic3\", \"Topic3\", \"Topic3\", \"Topic3\", \"Topic3\", \"Topic3\", \"Topic3\", \"Topic3\", \"Topic3\", \"Topic3\", \"Topic3\", \"Topic3\", \"Topic3\", \"Topic3\", \"Topic3\", \"Topic3\", \"Topic3\", \"Topic3\", \"Topic3\", \"Topic3\", \"Topic3\", \"Topic3\", \"Topic3\", \"Topic3\", \"Topic3\", \"Topic3\", \"Topic3\", \"Topic3\", \"Topic4\", \"Topic4\", \"Topic4\", \"Topic4\", \"Topic4\", \"Topic4\", \"Topic4\", \"Topic4\", \"Topic4\", \"Topic4\", \"Topic4\", \"Topic4\", \"Topic4\", \"Topic4\", \"Topic4\", \"Topic4\", \"Topic4\", \"Topic4\", \"Topic4\", \"Topic4\", \"Topic4\", \"Topic4\", \"Topic4\", \"Topic4\", \"Topic4\", \"Topic4\", \"Topic4\", \"Topic4\", \"Topic4\", \"Topic4\", \"Topic4\", \"Topic4\", \"Topic4\", \"Topic4\", \"Topic4\", \"Topic4\", \"Topic5\", \"Topic5\", \"Topic5\", \"Topic5\", \"Topic5\", \"Topic5\", \"Topic5\", \"Topic5\", \"Topic5\", \"Topic5\", \"Topic5\", \"Topic5\", \"Topic5\", \"Topic5\", \"Topic5\", \"Topic5\", \"Topic5\", \"Topic5\", \"Topic5\", \"Topic5\", \"Topic5\", \"Topic5\", \"Topic5\", \"Topic5\", \"Topic5\", \"Topic5\", \"Topic5\", \"Topic5\", \"Topic5\", \"Topic5\", \"Topic5\", \"Topic5\", \"Topic5\", \"Topic5\", \"Topic5\", \"Topic5\", \"Topic5\", \"Topic5\", \"Topic5\", \"Topic5\", \"Topic5\", \"Topic5\", \"Topic5\"], \"logprob\": [30.0, 29.0, 28.0, 27.0, 26.0, 25.0, 24.0, 23.0, 22.0, 21.0, 20.0, 19.0, 18.0, 17.0, 16.0, 15.0, 14.0, 13.0, 12.0, 11.0, 10.0, 9.0, 8.0, 7.0, 6.0, 5.0, 4.0, 3.0, 2.0, 1.0, -2.922300100326538, -3.8756000995635986, -3.8875999450683594, -4.003300189971924, -4.059199810028076, -4.249100208282471, -4.249100208282471, -4.340199947357178, -4.359499931335449, -4.483399868011475, -4.5518999099731445, -4.600299835205078, -4.625100135803223, -4.650899887084961, -4.7042999267578125, -4.7322001457214355, -4.7322998046875, -4.852099895477295, -4.952300071716309, -5.1458001136779785, -5.146200180053711, -5.189499855041504, -5.189799785614014, -5.189899921417236, -5.234899997711182, -5.234899997711182, -5.333000183105469, -5.333000183105469, -5.333099842071533, -5.333199977874756, -2.768399953842163, -4.931399822235107, -4.076099872589111, -3.313699960708618, -4.893899917602539, -3.5938000679016113, -4.68779993057251, -4.831299781799316, -4.869500160217285, -5.093699932098389, -3.1143999099731445, -3.2177000045776367, -3.2767999172210693, -3.3076000213623047, -3.3138999938964844, -3.320199966430664, -3.3266000747680664, -3.3203001022338867, -3.3524999618530273, -3.372299909591675, -3.3926000595092773, -3.3926000595092773, -6.697999954223633, -3.244800090789795, -6.89870023727417, -3.2327001094818115, -7.154200077056885, -7.153200149536133, -7.154600143432617, -7.158699989318848, -7.158599853515625, -7.16349983215332, -7.163300037384033, -3.1084001064300537, -7.49459981918335, -7.49429988861084, -7.497099876403809, -7.496500015258789, -7.4969000816345215, -7.501200199127197, -2.0631000995635986, -3.312999963760376, -2.446700096130371, -2.496799945831299, -6.817200183868408, -6.691100120544434, -2.0134999752044678, -2.438199996948242, -5.186200141906738, -5.287300109863281, -2.035599946975708, -2.1800999641418457, -6.042900085449219, -2.3176000118255615, -6.296800136566162, -6.298999786376953, -6.299499988555908, -6.301199913024902, -6.3024001121521, -6.305099964141846, -6.641600131988525, -6.644100189208984, -6.644700050354004, -6.64709997177124, -6.645899772644043, -6.64739990234375, -6.645100116729736, -6.646599769592285, -6.647299766540527, -6.64900016784668, -6.649499893188477, -6.65369987487793, -6.652400016784668, -6.651299953460693, -6.654300212860107, -6.655399799346924, -6.655399799346924, -2.1233999729156494, -4.7017998695373535, -5.280799865722656, -4.599599838256836, -5.667799949645996, -5.2428998947143555, -6.0447998046875, -6.278800010681152, -6.427000045776367, -6.139900207519531, -6.413300037384033, -6.443699836730957, -6.457399845123291, -2.397700071334839, -2.644200086593628, -2.687700033187866, -2.6940999031066895, -2.7265000343322754, -2.7600998878479004, -2.447499990463257, -6.064899921417236, -6.515699863433838, -6.861800193786621, -6.864099979400635, -6.86870002746582, -6.884099960327148, -2.667799949645996, -7.389800071716309, -7.389800071716309, -7.389800071716309, -7.389900207519531, -7.3902997970581055, -7.393199920654297, -7.393199920654297, -7.393199920654297, -7.3942999839782715, -7.3993000984191895, -7.397500038146973, -7.397500038146973, -7.397500038146973, -7.397600173950195, -7.399499893188477, -7.400199890136719, -1.8253999948501587, -2.4607999324798584, -6.778900146484375, -7.389900207519531, -7.394800186157227, -7.390699863433838, -1.7409000396728516, -1.9377000331878662, -2.046099901199341, -4.918000221252441, -5.188600063323975, -5.356299877166748, -5.81689977645874, -5.823500156402588, -6.161099910736084, -6.160900115966797, -6.160900115966797, -6.161900043487549, -6.162300109863281, -6.689000129699707, -6.689000129699707, -6.689000129699707, -6.6890997886657715, -6.6890997886657715, -6.6890997886657715, -6.6890997886657715, -6.6890997886657715, -6.690700054168701, -6.690700054168701, -6.690700054168701, -6.690700054168701, -6.690299987792969, -6.69189977645874, -6.6915998458862305, -6.690899848937988, -6.692399978637695, -1.8885999917984009, -5.658100128173828, -6.400899887084961, -5.514699935913086, -6.220399856567383, -6.196199893951416, -6.158599853515625, -6.669400215148926, -6.6880998611450195, -6.686399936676025, -6.686399936676025, -6.686999797821045, -6.688600063323975], \"loglift\": [30.0, 29.0, 28.0, 27.0, 26.0, 25.0, 24.0, 23.0, 22.0, 21.0, 20.0, 19.0, 18.0, 17.0, 16.0, 15.0, 14.0, 13.0, 12.0, 11.0, 10.0, 9.0, 8.0, 7.0, 6.0, 5.0, 4.0, 3.0, 2.0, 1.0, 0.5074999928474426, 0.5034999847412109, 0.5034999847412109, 0.5026999711990356, 0.5023000240325928, 0.5005999803543091, 0.5005999803543091, 0.49970000982284546, 0.49950000643730164, 0.498199999332428, 0.49729999899864197, 0.4966999888420105, 0.49639999866485596, 0.4959999918937683, 0.4952999949455261, 0.4948999881744385, 0.49480000138282776, 0.492900013923645, 0.4912000000476837, 0.487199991941452, 0.4869999885559082, 0.4862000048160553, 0.4860000014305115, 0.4860000014305115, 0.48510000109672546, 0.48510000109672546, 0.48260000348091125, 0.48260000348091125, 0.48249998688697815, 0.48249998688697815, 0.14740000665187836, 0.3564000129699707, 0.05730000138282776, -0.3052000105381012, 0.25209999084472656, -0.7049000263214111, -0.149399995803833, -0.2151000052690506, -1.014799952507019, -0.5756999850273132, 2.0241000652313232, 2.021699905395508, 2.02020001411438, 2.019399881362915, 2.0192999839782715, 2.0190999507904053, 2.018899917602539, 2.018899917602539, 2.018199920654297, 2.017699956893921, 2.0171000957489014, 2.0171000957489014, 1.427899956703186, 1.371399998664856, 1.3329999446868896, 1.3056999444961548, 1.2010999917984009, 1.1998000144958496, 1.1960999965667725, 1.1901999711990356, 1.1871000528335571, 1.1765999794006348, 1.1758999824523926, 1.024999976158142, 1.0018999576568604, 1.0013999938964844, 1.0, 0.9961000084877014, 0.9952999949455261, 0.993399977684021, 0.8526999950408936, 0.6449999809265137, 0.5616999864578247, 0.3921000063419342, 0.49300000071525574, 0.04410000145435333, 2.060800075531006, 2.057300090789795, 1.9142999649047852, 1.8986999988555908, 1.819100022315979, 1.777999997138977, 1.7390999794006348, 1.6828999519348145, 1.6655000448226929, 1.6615999937057495, 1.6608999967575073, 1.6575000286102295, 1.6575000286102295, 1.6507999897003174, 1.537600040435791, 1.5332000255584717, 1.5324000120162964, 1.5322999954223633, 1.531999945640564, 1.5319000482559204, 1.5317000150680542, 1.5293999910354614, 1.5285999774932861, 1.5252000093460083, 1.5242999792099, 1.5231000185012817, 1.5226999521255493, 1.5211999416351318, 1.5195000171661377, 1.5146000385284424, 1.5146000385284424, 0.765500009059906, 1.1634999513626099, 1.1272000074386597, 0.5464000105857849, 0.9786999821662903, 0.04490000009536743, 0.4828999936580658, 0.5435000061988831, 0.8651000261306763, -0.37549999356269836, 0.14100000262260437, 0.21699999272823334, 0.19930000603199005, 2.474299907684326, 2.4697000980377197, 2.4688000679016113, 2.468600034713745, 2.467900037765503, 2.467099905014038, 2.0703999996185303, 1.9592000246047974, 1.5793999433517456, 1.5759999752044678, 1.5702999830245972, 1.5622999668121338, 1.5361000299453735, 1.3327000141143799, 1.2314000129699707, 1.2314000129699707, 1.2314000129699707, 1.2312999963760376, 1.2308000326156616, 1.225000023841858, 1.225000023841858, 1.225000023841858, 1.223099946975708, 1.2223999500274658, 1.2217999696731567, 1.2193000316619873, 1.2193000316619873, 1.2186000347137451, 1.2135000228881836, 1.2125999927520752, 1.0635000467300415, 0.5475999712944031, -0.4778999984264374, 0.6281999945640564, 0.9657999873161316, 0.2547999918460846, 2.7836999893188477, 2.7813000679016113, 2.7797999382019043, 2.550100088119507, 2.4856998920440674, 2.440700054168701, 2.2792999744415283, 2.271699905395508, 2.1285998821258545, 2.127700090408325, 2.127700090408325, 2.125999927520752, 2.1252999305725098, 1.839900016784668, 1.839900016784668, 1.839900016784668, 1.8398000001907349, 1.8398000001907349, 1.8398000001907349, 1.8398000001907349, 1.8398000001907349, 1.8385000228881836, 1.8384000062942505, 1.8384000062942505, 1.8380000591278076, 1.8378000259399414, 1.837499976158142, 1.836899995803833, 1.8367999792099, 1.835800051689148, 1.1197999715805054, 1.4177000522613525, 1.7099000215530396, 1.1830999851226807, 1.5693000555038452, 1.31659996509552, 0.9146999716758728, 0.6804999709129333, 1.6723999977111816, 0.9251999855041504, 1.4086999893188477, 1.2819000482559204, 1.2799999713897705]}, \"token.table\": {\"Topic\": [1, 5, 1, 1, 2, 3, 1, 3, 1, 3, 1, 1, 3, 1, 2, 4, 5, 1, 3, 1, 2, 1, 4, 1, 3, 3, 1, 5, 3, 4, 3, 3, 1, 1, 3, 2, 1, 3, 5, 1, 1, 5, 1, 2, 1, 3, 3, 3, 1, 3, 1, 3, 4, 3, 2, 4, 1, 1, 1, 1, 5, 1, 4, 1, 5, 4, 1, 2, 1, 2, 3, 4, 1, 3, 1, 5, 2, 3, 2, 1, 3, 3, 1, 3, 5, 2, 3, 1, 1, 4, 2, 3, 1, 1, 3, 1, 1, 1, 3, 1, 3, 3, 1, 3, 3, 1, 1, 4, 3, 1, 3, 5, 1, 2, 1, 3, 2, 5, 4, 3, 1, 1, 2, 5, 2, 1, 3, 3, 3, 1, 5, 4, 2, 1, 3, 5, 1, 2, 2, 5, 3, 3, 2, 5, 1, 2, 1, 3, 1, 2, 2, 3, 2, 2, 1, 1, 5, 1, 5, 3, 2, 1, 4, 5, 1, 2, 1, 5, 2, 2, 1, 2, 1], \"Freq\": [0.9966263771057129, 0.7147035002708435, 0.5195454359054565, 0.756443202495575, 0.15128864347934723, 0.637642502784729, 0.7376154065132141, 0.24587179720401764, 0.8426486849784851, 0.14044144749641418, 0.9982215762138367, 0.9963831305503845, 0.5148756504058838, 0.4443090558052063, 0.2257964015007019, 0.14203321933746338, 0.18573574721813202, 0.6923035979270935, 0.27692142128944397, 0.9965755343437195, 0.7523171901702881, 0.9651175737380981, 0.9712286591529846, 0.8539552688598633, 0.14232587814331055, 0.5128010511398315, 0.5987653732299805, 0.5987653732299805, 0.6411946415901184, 0.5490381717681885, 0.637926459312439, 0.6376703381538391, 0.9652488231658936, 0.22071102261543274, 0.7809774875640869, 0.9680564403533936, 0.9169162511825562, 0.11461453139781952, 0.9872007966041565, 0.9964984059333801, 1.000417947769165, 0.5895059108734131, 0.9772977232933044, 0.9806780219078064, 0.5705487132072449, 0.380365788936615, 0.861960232257843, 0.6352792978286743, 0.6602570414543152, 0.1650642603635788, 0.9795883297920227, 0.6776799559593201, 0.31428635120391846, 0.6390143632888794, 0.9800760746002197, 0.986054003238678, 0.9548180103302002, 0.8393433094024658, 0.9711059927940369, 0.6380826234817505, 0.2126942127943039, 0.9810100793838501, 0.9723213315010071, 0.84866863489151, 0.2121671587228775, 0.9868273138999939, 0.6970898509025574, 0.3020722568035126, 0.29729947447776794, 0.19065944850444794, 0.2714473605155945, 0.23913219571113586, 0.7719519734382629, 0.2161465585231781, 0.9889761209487915, 0.9952387809753418, 0.7530322074890137, 0.6413185000419617, 0.7610282301902771, 0.9972192645072937, 0.5142612457275391, 0.9828107357025146, 0.32923710346221924, 0.32923710346221924, 0.32923710346221924, 0.9620907306671143, 0.6411533951759338, 0.9931038022041321, 0.8821098804473877, 0.09801220893859863, 0.24473333358764648, 0.7530256509780884, 0.5457059144973755, 0.5280919075012207, 0.26404595375061035, 0.9971995949745178, 0.9943395256996155, 0.9549511075019836, 0.6399192214012146, 0.986778974533081, 0.516088604927063, 0.5151456594467163, 0.7575532793998718, 0.12625887989997864, 0.9498578906059265, 0.9650501012802124, 0.9995913505554199, 0.9672828316688538, 0.6403375864028931, 0.7269282341003418, 0.9938904643058777, 0.7152923345565796, 0.8066440224647522, 0.26888135075569153, 0.8392212986946106, 0.13987021148204803, 0.9664495587348938, 0.9864308834075928, 0.9733275175094604, 0.639593243598938, 0.9895716309547424, 0.6393409371376038, 0.35892823338508606, 0.8749476671218872, 0.9646909832954407, 0.9954857230186462, 0.8720454573631287, 0.6396405100822449, 0.6391174793243408, 0.4343402087688446, 0.4343402087688446, 0.5894338488578796, 0.7597283720970154, 0.5453815460205078, 0.4363052546977997, 0.6297430396080017, 0.521369218826294, 0.4709141254425049, 0.6756987571716309, 0.7738831043243408, 0.6385241150856018, 0.6368789672851562, 0.9738895297050476, 0.5900663733482361, 0.9978315830230713, 0.9695262312889099, 0.9710419178009033, 0.5152011513710022, 0.9651205539703369, 0.7573273777961731, 0.9740257263183594, 0.6398063898086548, 0.7628186345100403, 0.7646450996398926, 0.7519679665565491, 0.9869788885116577, 0.714511513710022, 0.7287054657936096, 0.14574109017848969, 0.6352792978286743, 0.9646909832954407, 0.3295555114746094, 0.6591110229492188, 0.7160401344299316, 0.4908025860786438, 0.5089804530143738, 0.519382894039154, 0.7152923345565796, 0.6078823208808899, 0.9852946400642395, 0.9990026354789734, 0.9831572771072388, 0.9867779612541199], \"Term\": [\"advancement\", \"advisor\", \"air\", \"amount\", \"amount\", \"ample\", \"available\", \"available\", \"average\", \"average\", \"balance\", \"bank\", \"banker\", \"benefit\", \"benefit\", \"benefit\", \"benefit\", \"big\", \"big\", \"bonus\", \"boss\", \"branch\", \"cafe\", \"career\", \"career\", \"caregiver\", \"certain\", \"certain\", \"chill\", \"client\", \"close\", \"communication\", \"community\", \"company\", \"company\", \"compensation\", \"competitive\", \"competitive\", \"coworker\", \"culture\", \"customer\", \"daily\", \"day\", \"decent\", \"development\", \"development\", \"direction\", \"disability\", \"diversity\", \"diversity\", \"easy\", \"employee\", \"employee\", \"employer\", \"entry\", \"environment\", \"excellent\", \"expectation\", \"experience\", \"financial\", \"financial\", \"flexible\", \"food\", \"free\", \"free\", \"friendly\", \"good\", \"good\", \"great\", \"great\", \"great\", \"great\", \"growth\", \"growth\", \"holiday\", \"hour\", \"incentive\", \"institution\", \"intelligent\", \"job\", \"knowledge\", \"large\", \"learning\", \"learning\", \"learning\", \"level\", \"license\", \"life\", \"location\", \"location\", \"lot\", \"lot\", \"lunch\", \"major\", \"major\", \"management\", \"manager\", \"many\", \"material\", \"member\", \"mentorship\", \"most\", \"move\", \"move\", \"much\", \"new\", \"nice\", \"office\", \"opening\", \"operation\", \"opportunity\", \"out\", \"overall\", \"overall\", \"overtime\", \"overtime\", \"package\", \"parking\", \"part\", \"partner\", \"pay\", \"people\", \"people\", \"person\", \"pick\", \"place\", \"potential\", \"presence\", \"present\", \"priority\", \"priority\", \"pro\", \"professionalism\", \"program\", \"program\", \"promotion\", \"pto\", \"pto\", \"purchase\", \"quarterly\", \"relocate\", \"research\", \"resource\", \"risk\", \"room\", \"salary\", \"schedule\", \"senior\", \"service\", \"similar\", \"skill\", \"stability\", \"start\", \"stock\", \"structure\", \"team\", \"teamwork\", \"teller\", \"teller\", \"term\", \"thorough\", \"time\", \"time\", \"timer\", \"training\", \"training\", \"valuable\", \"vault\", \"volunteer\", \"way\", \"work\", \"worker\", \"year\"]}, \"R\": 30, \"lambda.step\": 0.01, \"plot.opts\": {\"xlab\": \"PC1\", \"ylab\": \"PC2\"}, \"topic.order\": [2, 5, 1, 4, 3]};\n",
       "\n",
       "function LDAvis_load_lib(url, callback){\n",
       "  var s = document.createElement('script');\n",
       "  s.src = url;\n",
       "  s.async = true;\n",
       "  s.onreadystatechange = s.onload = callback;\n",
       "  s.onerror = function(){console.warn(\"failed to load library \" + url);};\n",
       "  document.getElementsByTagName(\"head\")[0].appendChild(s);\n",
       "}\n",
       "\n",
       "if(typeof(LDAvis) !== \"undefined\"){\n",
       "   // already loaded: just create the visualization\n",
       "   !function(LDAvis){\n",
       "       new LDAvis(\"#\" + \"ldavis_el114541406319885466404617190499\", ldavis_el114541406319885466404617190499_data);\n",
       "   }(LDAvis);\n",
       "}else if(typeof define === \"function\" && define.amd){\n",
       "   // require.js is available: use it to load d3/LDAvis\n",
       "   require.config({paths: {d3: \"https://cdnjs.cloudflare.com/ajax/libs/d3/3.5.5/d3.min\"}});\n",
       "   require([\"d3\"], function(d3){\n",
       "      window.d3 = d3;\n",
       "      LDAvis_load_lib(\"https://cdn.rawgit.com/bmabey/pyLDAvis/files/ldavis.v1.0.0.js\", function(){\n",
       "        new LDAvis(\"#\" + \"ldavis_el114541406319885466404617190499\", ldavis_el114541406319885466404617190499_data);\n",
       "      });\n",
       "    });\n",
       "}else{\n",
       "    // require.js not available: dynamically load d3 & LDAvis\n",
       "    LDAvis_load_lib(\"https://cdnjs.cloudflare.com/ajax/libs/d3/3.5.5/d3.min.js\", function(){\n",
       "         LDAvis_load_lib(\"https://cdn.rawgit.com/bmabey/pyLDAvis/files/ldavis.v1.0.0.js\", function(){\n",
       "                 new LDAvis(\"#\" + \"ldavis_el114541406319885466404617190499\", ldavis_el114541406319885466404617190499_data);\n",
       "            })\n",
       "         });\n",
       "}\n",
       "</script>"
      ],
      "text/plain": [
       "PreparedData(topic_coordinates=              x         y  topics  cluster       Freq\n",
       "topic                                                \n",
       "1     -0.121535  0.002443       1        1  60.050358\n",
       "4     -0.121808 -0.251718       2        1  12.912051\n",
       "0      0.221187 -0.021818       3        1  12.647872\n",
       "3      0.168317  0.044788       4        1   8.278699\n",
       "2     -0.146161  0.226305       5        1   6.111023, topic_info=            Term        Freq       Total Category  logprob  loglift\n",
       "26       benefit  274.000000  274.000000  Default  30.0000  30.0000\n",
       "12         great  309.000000  309.000000  Default  29.0000  29.0000\n",
       "0           good  301.000000  301.000000  Default  28.0000  28.0000\n",
       "5        company  117.000000  117.000000  Default  27.0000  27.0000\n",
       "160  opportunity   94.000000   94.000000  Default  26.0000  26.0000\n",
       "..           ...         ...         ...      ...      ...      ...\n",
       "291       moment    0.423376    1.301004   Topic5  -6.6881   1.6724\n",
       "287    operation    0.424109    2.751303   Topic5  -6.6864   0.9252\n",
       "357          pro    0.424093    1.696543   Topic5  -6.6864   1.4087\n",
       "367          air    0.423866    1.924759   Topic5  -6.6870   1.2819\n",
       "441     valuable    0.423174    1.925362   Topic5  -6.6886   1.2800\n",
       "\n",
       "[229 rows x 6 columns], token_table=      Topic      Freq         Term\n",
       "term                              \n",
       "157       1  0.996626  advancement\n",
       "463       5  0.714704      advisor\n",
       "367       1  0.519545          air\n",
       "355       1  0.756443       amount\n",
       "355       2  0.151289       amount\n",
       "...     ...       ...          ...\n",
       "266       2  0.607882    volunteer\n",
       "59        2  0.985295          way\n",
       "33        1  0.999003         work\n",
       "218       2  0.983157       worker\n",
       "104       1  0.986778         year\n",
       "\n",
       "[173 rows x 3 columns], R=30, lambda_step=0.01, plot_opts={'xlab': 'PC1', 'ylab': 'PC2'}, topic_order=[2, 5, 1, 4, 3])"
      ]
     },
     "execution_count": 8,
     "metadata": {},
     "output_type": "execute_result"
    }
   ],
   "source": [
    "# Visualize the topics\n",
    "pyLDAvis.enable_notebook()\n",
    "vis = pyLDAvis.gensim.prepare(lda_model, doc_term_matrix, dictionary)\n",
    "vis"
   ]
  },
  {
   "cell_type": "code",
   "execution_count": 6,
   "metadata": {},
   "outputs": [],
   "source": [
    "# save to local\n",
    "df_raw.to_csv('output/review_clnd.csv', index=False)"
   ]
  }
 ],
 "metadata": {
  "kernelspec": {
   "display_name": "Python 3",
   "language": "python",
   "name": "python3"
  },
  "language_info": {
   "codemirror_mode": {
    "name": "ipython",
    "version": 3
   },
   "file_extension": ".py",
   "mimetype": "text/x-python",
   "name": "python",
   "nbconvert_exporter": "python",
   "pygments_lexer": "ipython3",
   "version": "3.7.4"
  }
 },
 "nbformat": 4,
 "nbformat_minor": 4
}
